{
  "cells": [
    {
      "cell_type": "markdown",
      "metadata": {},
      "source": [
        "# Data Preprocessing - Home Credit Default Risk (Selected Features)\n",
        "\n",
        "## Goal\n",
        "This notebook shows how to clean and prepare data for machine learning using only the most important features.\n",
        "\n",
        "## Steps:\n",
        "1. Load data and select important features\n",
        "2. Handle missing values\n",
        "3. Encode categorical variables\n",
        "4. Scale numerical features\n",
        "5. Save processed data\n",
        "\n",
        "---\n"
      ]
    }
  ],
  "metadata": {
    "language_info": {
      "name": "python"
    }
  },
  "nbformat": 4,
  "nbformat_minor": 2
}
