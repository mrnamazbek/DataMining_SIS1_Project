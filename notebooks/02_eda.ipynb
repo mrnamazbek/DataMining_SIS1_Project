{
  "cells": [
    {
      "cell_type": "markdown",
      "metadata": {},
      "source": [
        "# Exploratory Data Analysis - Home Credit Default Risk\n",
        "\n",
        "## Goal\n",
        "This notebook shows how to explore data and find patterns that help predict loan defaults.\n",
        "\n",
        "## Steps:\n",
        "1. Load processed data\n",
        "2. Analyze target variable\n",
        "3. Statistical analysis of features\n",
        "4. Correlation analysis\n",
        "5. Visualize distributions\n",
        "6. Find important features\n",
        "7. Draw conclusions\n",
        "\n",
        "---\n"
      ]
    },
    {
      "cell_type": "code",
      "execution_count": null,
      "metadata": {},
      "outputs": [],
      "source": [
        "# Import libraries\n",
        "import pandas as pd\n",
        "import numpy as np\n",
        "import matplotlib.pyplot as plt\n",
        "import seaborn as sns\n",
        "import warnings\n",
        "from scipy import stats\n",
        "from sklearn.feature_selection import mutual_info_classif\n",
        "import json\n",
        "\n",
        "# Settings\n",
        "warnings.filterwarnings('ignore')\n",
        "plt.style.use('default')\n",
        "sns.set_palette(\"Set2\")\n",
        "pd.set_option('display.max_columns', None)\n",
        "\n",
        "# Set plot size\n",
        "plt.rcParams['figure.figsize'] = (12, 8)\n",
        "plt.rcParams['font.size'] = 10\n",
        "\n",
        "print(\"Libraries imported successfully!\")\n",
        "print(\"Plot settings applied!\")\n"
      ]
    },
    {
      "cell_type": "markdown",
      "metadata": {},
      "source": [
        "## 1. Load Processed Data\n"
      ]
    },
    {
      "cell_type": "code",
      "execution_count": null,
      "metadata": {},
      "outputs": [],
      "source": [
        "# Load processed data\n",
        "print(\"Loading processed data...\")\n",
        "\n",
        "# Load train data\n",
        "df = pd.read_csv('../data_processed/train_processed.csv')\n",
        "print(f\"Processed data loaded: {df.shape}\")\n",
        "\n",
        "# Load feature information\n",
        "with open('../data_processed/feature_info.json', 'r') as f:\n",
        "    feature_info = json.load(f)\n",
        "\n",
        "print(f\"Data information:\")\n",
        "print(f\"  - Total records: {len(df):,}\")\n",
        "print(f\"  - Number of features: {df.shape[1]}\")\n",
        "print(f\"  - Numerical features: {feature_info['numeric_features']}\")\n",
        "print(f\"  - Categorical features: {feature_info['categorical_features']}\")\n",
        "\n",
        "# Basic data info\n",
        "print(f\"\\nBasic information:\")\n",
        "print(f\"  - Missing values: {df.isnull().sum().sum()}\")\n",
        "print(f\"  - Duplicates: {df.duplicated().sum()}\")\n",
        "\n",
        "# Analyze target variable\n",
        "target_stats = df['TARGET'].value_counts()\n",
        "print(f\"\\nTarget variable (TARGET):\")\n",
        "print(f\"  - No default (0): {target_stats[0]:,} ({target_stats[0]/len(df)*100:.2f}%)\")\n",
        "print(f\"  - Default (1): {target_stats[1]:,} ({target_stats[1]/len(df)*100:.2f}%)\")\n",
        "print(f\"  - Imbalance ratio: {target_stats[0]/target_stats[1]:.1f}:1\")\n"
      ]
    },
    {
      "cell_type": "markdown",
      "metadata": {},
      "source": [
        "## 2. Target Variable Analysis\n"
      ]
    },
    {
      "cell_type": "code",
      "execution_count": null,
      "metadata": {},
      "outputs": [],
      "source": [
        "# Visualize target variable distribution\n",
        "plt.figure(figsize=(10, 6))\n",
        "\n",
        "# Create pie chart\n",
        "plt.subplot(1, 2, 1)\n",
        "target_counts = df['TARGET'].value_counts()\n",
        "plt.pie(target_counts.values, labels=['No Default', 'Default'], autopct='%1.1f%%', startangle=90)\n",
        "plt.title('Target Variable Distribution')\n",
        "\n",
        "# Create bar chart\n",
        "plt.subplot(1, 2, 2)\n",
        "plt.bar(['No Default', 'Default'], target_counts.values, color=['lightblue', 'lightcoral'])\n",
        "plt.title('Target Variable Counts')\n",
        "plt.ylabel('Count')\n",
        "\n",
        "plt.tight_layout()\n",
        "plt.show()\n",
        "\n",
        "print(f\"Default rate: {df['TARGET'].mean()*100:.2f}%\")\n",
        "print(f\"Class imbalance: {target_counts[0]/target_counts[1]:.1f}:1\")\n"
      ]
    }
  ],
  "metadata": {
    "language_info": {
      "name": "python"
    }
  },
  "nbformat": 4,
  "nbformat_minor": 2
}
