{
  "cells": [
    {
      "cell_type": "markdown",
      "metadata": {},
      "source": [
        "# 🔍 Exploratory Data Analysis - Home Credit Default Risk\n",
        "\n",
        "## 🎯 Цель ноутбука\n",
        "Этот ноутбук содержит комплексный анализ данных для выявления закономерностей и факторов, влияющих на кредитный дефолт.\n",
        "\n",
        "## 📋 Содержание:\n",
        "1. **Загрузка обработанных данных**\n",
        "2. **Анализ целевой переменной**\n",
        "3. **Статистический анализ признаков**\n",
        "4. **Корреляционный анализ**\n",
        "5. **Визуализация распределений**\n",
        "6. **Анализ важных признаков**\n",
        "7. **Выводы и гипотезы**\n",
        "\n",
        "---\n"
      ]
    },
    {
      "cell_type": "code",
      "execution_count": null,
      "metadata": {},
      "outputs": [],
      "source": [
        "# Импорт необходимых библиотек\n",
        "import pandas as pd\n",
        "import numpy as np\n",
        "import matplotlib.pyplot as plt\n",
        "import seaborn as sns\n",
        "import warnings\n",
        "from scipy import stats\n",
        "from sklearn.feature_selection import mutual_info_classif\n",
        "import json\n",
        "\n",
        "# Настройки для отображения\n",
        "warnings.filterwarnings('ignore')\n",
        "plt.style.use('seaborn-v0_8')\n",
        "sns.set_palette(\"husl\")\n",
        "pd.set_option('display.max_columns', None)\n",
        "pd.set_option('display.max_rows', 100)\n",
        "\n",
        "# Настройка размера графиков\n",
        "plt.rcParams['figure.figsize'] = (12, 8)\n",
        "plt.rcParams['font.size'] = 10\n",
        "\n",
        "print(\"📚 Библиотеки успешно импортированы!\")\n",
        "print(\"🎨 Настройки визуализации применены!\")\n"
      ]
    },
    {
      "cell_type": "markdown",
      "metadata": {},
      "source": [
        "## 1️⃣ Загрузка обработанных данных\n"
      ]
    },
    {
      "cell_type": "code",
      "execution_count": null,
      "metadata": {},
      "outputs": [],
      "source": [
        "# Загрузка обработанных данных\n",
        "print(\"📂 Загружаем обработанные данные...\")\n",
        "\n",
        "# Загружаем train данные\n",
        "df = pd.read_csv('../data_processed/train_processed.csv')\n",
        "print(f\"✅ Обработанные данные загружены: {df.shape}\")\n",
        "\n",
        "# Загружаем информацию о признаках\n",
        "with open('../data_processed/feature_info.json', 'r') as f:\n",
        "    feature_info = json.load(f)\n",
        "\n",
        "print(f\"📊 Информация о данных:\")\n",
        "print(f\"  - Общее количество записей: {len(df):,}\")\n",
        "print(f\"  - Количество признаков: {df.shape[1]}\")\n",
        "print(f\"  - Числовых признаков: {feature_info['numeric_features']}\")\n",
        "print(f\"  - Категориальных признаков: {feature_info['categorical_features']}\")\n",
        "\n",
        "# Базовая информация о данных\n",
        "print(f\"\\n🔍 Базовая информация:\")\n",
        "print(f\"  - Пропущенных значений: {df.isnull().sum().sum()}\")\n",
        "print(f\"  - Дубликатов: {df.duplicated().sum()}\")\n",
        "\n",
        "# Анализ целевой переменной\n",
        "target_stats = df['TARGET'].value_counts()\n",
        "print(f\"\\n🎯 Целевая переменная (TARGET):\")\n",
        "print(f\"  - Нет дефолта (0): {target_stats[0]:,} ({target_stats[0]/len(df)*100:.2f}%)\")\n",
        "print(f\"  - Дефолт (1): {target_stats[1]:,} ({target_stats[1]/len(df)*100:.2f}%)\")\n",
        "print(f\"  - Несбалансированность: {target_stats[0]/target_stats[1]:.1f}:1\")\n"
      ]
    }
  ],
  "metadata": {
    "language_info": {
      "name": "python"
    }
  },
  "nbformat": 4,
  "nbformat_minor": 2
}
